{
 "cells": [
  {
   "cell_type": "markdown",
   "metadata": {},
   "source": [
    "# Praktische Übung 1: Pandas"
   ]
  },
  {
   "cell_type": "markdown",
   "metadata": {},
   "source": [
    "Lösen Sie die nachfolgenden Aufgaben und nutzen Sie das in der Vorlesung gezeigte Notebook `0_Pandas_Intro.ipynb` als Lösungshilfe."
   ]
  },
  {
   "cell_type": "markdown",
   "metadata": {},
   "source": [
    "## Aufgabe 1"
   ]
  },
  {
   "cell_type": "markdown",
   "metadata": {},
   "source": [
    "1. Laden Sie den Datensatz `automobile.csv` von GitHub aus dem Folder `data` runter.\n",
    "2. Laden Sie die Daten in diesem Notebook in einen Pandas DataFrame.\n",
    "3. Schauen Sie sich die Daten an und versuchen Sie zu verstehen was die Daten abbilden.\n",
    "4. Geben Sie folgende Daten aus:\n",
    "    1. Eine Liste aller Hersteller.\n",
    "    2. Wie oft welcher „body-style“ im Datensatz vorhanden ist.\n",
    "    3. Die fünf Autos mit dem niedrigsten Preis.\n",
    "    4. Die fünf Autos mit dem höchsten Preis"
   ]
  },
  {
   "cell_type": "code",
   "execution_count": 55,
   "metadata": {},
   "outputs": [
    {
     "data": {
      "text/plain": [
       "35    45400.0\n",
       "11    41315.0\n",
       "34    40960.0\n",
       "46    37028.0\n",
       "12    36880.0\n",
       "Name: price, dtype: float64"
      ]
     },
     "execution_count": 55,
     "metadata": {},
     "output_type": "execute_result"
    }
   ],
   "source": [
    "import pandas as pd\n",
    "automobile = pd.read_csv('.//data//automobile.csv')\n",
    "\n",
    "automobile.head()\n",
    "\n",
    "# 4.\n",
    "# 1)\n",
    "automobile[\"company\"].unique()\n",
    "\n",
    "# 2)\n",
    "automobile[\"body-style\"].value_counts()\n",
    "\n",
    "# 3)\n",
    "automobile[\"price\"].sort_values().head(5)\n",
    "\n",
    "# 4)\n",
    "automobile[\"price\"].sort_values(ascending=False).head(5)\n"
   ]
  },
  {
   "cell_type": "markdown",
   "metadata": {},
   "source": [
    "## Aufgabe 2"
   ]
  },
  {
   "cell_type": "markdown",
   "metadata": {},
   "source": [
    "1. Was ist der durchschnittliche Preis mit Bezug auf den „body-style“ eines Autos?\n",
    "2. Welches sind die drei „body-style“s mit den durchschnittlich höchsten Preisen?\n",
    "3. Welche Companies stellen „hardtop“ als „body-style“ her?\n",
    "4. Geben Sie alle Autos aus deren Herstellernamen mit \"a\" oder \"b\" beginnt ([Hint](https://pandas.pydata.org/docs/reference/api/pandas.Series.str.startswith.html)).\n",
    "5. Erstellen Sie je einen Scatterplot mit:\n",
    "    1. Scatterplot mit `x=\"horsepower\"` und `y=\"average-mileage\"`\n",
    "    2. Scatterplot mit `x=\"horsepower\"` und `y=\"price\"`"
   ]
  },
  {
   "cell_type": "code",
   "execution_count": 67,
   "metadata": {},
   "outputs": [
    {
     "data": {
      "text/html": [
       "<div>\n",
       "<style scoped>\n",
       "    .dataframe tbody tr th:only-of-type {\n",
       "        vertical-align: middle;\n",
       "    }\n",
       "\n",
       "    .dataframe tbody tr th {\n",
       "        vertical-align: top;\n",
       "    }\n",
       "\n",
       "    .dataframe thead th {\n",
       "        text-align: right;\n",
       "    }\n",
       "</style>\n",
       "<table border=\"1\" class=\"dataframe\">\n",
       "  <thead>\n",
       "    <tr style=\"text-align: right;\">\n",
       "      <th></th>\n",
       "      <th>index</th>\n",
       "      <th>company</th>\n",
       "      <th>body-style</th>\n",
       "      <th>wheel-base</th>\n",
       "      <th>length</th>\n",
       "      <th>engine-type</th>\n",
       "      <th>num-of-cylinders</th>\n",
       "      <th>horsepower</th>\n",
       "      <th>average-mileage</th>\n",
       "      <th>price</th>\n",
       "    </tr>\n",
       "  </thead>\n",
       "  <tbody>\n",
       "    <tr>\n",
       "      <th>0</th>\n",
       "      <td>0</td>\n",
       "      <td>alfa-romero</td>\n",
       "      <td>convertible</td>\n",
       "      <td>88.6</td>\n",
       "      <td>168.8</td>\n",
       "      <td>dohc</td>\n",
       "      <td>four</td>\n",
       "      <td>111</td>\n",
       "      <td>21</td>\n",
       "      <td>13495.0</td>\n",
       "    </tr>\n",
       "    <tr>\n",
       "      <th>1</th>\n",
       "      <td>1</td>\n",
       "      <td>alfa-romero</td>\n",
       "      <td>convertible</td>\n",
       "      <td>88.6</td>\n",
       "      <td>168.8</td>\n",
       "      <td>dohc</td>\n",
       "      <td>four</td>\n",
       "      <td>111</td>\n",
       "      <td>21</td>\n",
       "      <td>16500.0</td>\n",
       "    </tr>\n",
       "    <tr>\n",
       "      <th>2</th>\n",
       "      <td>2</td>\n",
       "      <td>alfa-romero</td>\n",
       "      <td>hatchback</td>\n",
       "      <td>94.5</td>\n",
       "      <td>171.2</td>\n",
       "      <td>ohcv</td>\n",
       "      <td>six</td>\n",
       "      <td>154</td>\n",
       "      <td>19</td>\n",
       "      <td>16500.0</td>\n",
       "    </tr>\n",
       "    <tr>\n",
       "      <th>3</th>\n",
       "      <td>3</td>\n",
       "      <td>audi</td>\n",
       "      <td>sedan</td>\n",
       "      <td>99.8</td>\n",
       "      <td>176.6</td>\n",
       "      <td>ohc</td>\n",
       "      <td>four</td>\n",
       "      <td>102</td>\n",
       "      <td>24</td>\n",
       "      <td>13950.0</td>\n",
       "    </tr>\n",
       "    <tr>\n",
       "      <th>4</th>\n",
       "      <td>4</td>\n",
       "      <td>audi</td>\n",
       "      <td>sedan</td>\n",
       "      <td>99.4</td>\n",
       "      <td>176.6</td>\n",
       "      <td>ohc</td>\n",
       "      <td>five</td>\n",
       "      <td>115</td>\n",
       "      <td>18</td>\n",
       "      <td>17450.0</td>\n",
       "    </tr>\n",
       "    <tr>\n",
       "      <th>5</th>\n",
       "      <td>5</td>\n",
       "      <td>audi</td>\n",
       "      <td>sedan</td>\n",
       "      <td>99.8</td>\n",
       "      <td>177.3</td>\n",
       "      <td>ohc</td>\n",
       "      <td>five</td>\n",
       "      <td>110</td>\n",
       "      <td>19</td>\n",
       "      <td>15250.0</td>\n",
       "    </tr>\n",
       "    <tr>\n",
       "      <th>6</th>\n",
       "      <td>6</td>\n",
       "      <td>audi</td>\n",
       "      <td>wagon</td>\n",
       "      <td>105.8</td>\n",
       "      <td>192.7</td>\n",
       "      <td>ohc</td>\n",
       "      <td>five</td>\n",
       "      <td>110</td>\n",
       "      <td>19</td>\n",
       "      <td>18920.0</td>\n",
       "    </tr>\n",
       "  </tbody>\n",
       "</table>\n",
       "</div>"
      ],
      "text/plain": [
       "   index      company   body-style  wheel-base  length engine-type  \\\n",
       "0      0  alfa-romero  convertible        88.6   168.8        dohc   \n",
       "1      1  alfa-romero  convertible        88.6   168.8        dohc   \n",
       "2      2  alfa-romero    hatchback        94.5   171.2        ohcv   \n",
       "3      3         audi        sedan        99.8   176.6         ohc   \n",
       "4      4         audi        sedan        99.4   176.6         ohc   \n",
       "5      5         audi        sedan        99.8   177.3         ohc   \n",
       "6      6         audi        wagon       105.8   192.7         ohc   \n",
       "\n",
       "  num-of-cylinders  horsepower  average-mileage    price  \n",
       "0             four         111               21  13495.0  \n",
       "1             four         111               21  16500.0  \n",
       "2              six         154               19  16500.0  \n",
       "3             four         102               24  13950.0  \n",
       "4             five         115               18  17450.0  \n",
       "5             five         110               19  15250.0  \n",
       "6             five         110               19  18920.0  "
      ]
     },
     "execution_count": 67,
     "metadata": {},
     "output_type": "execute_result"
    }
   ],
   "source": [
    "# 1)\n",
    "avr_price = automobile.groupby(\"body-style\")[\"price\"].mean()\n",
    "\n",
    "# 2)\n",
    "avr_price.sort_values(ascending=False).head(3)\n",
    "\n",
    "# 3)\n",
    "automobile[automobile[\"body-style\"] == \"hardtop\"][\"company\"]\n",
    "\n",
    "# 4)\n",
    "automobile[automobile[\"company\"].str.startswith(\"a\")]\n",
    "\n"
   ]
  },
  {
   "cell_type": "markdown",
   "metadata": {},
   "source": [
    "## Aufgabe 3"
   ]
  },
  {
   "cell_type": "markdown",
   "metadata": {},
   "source": [
    "1. Zusätzlich stehen ihnen nachfolgende Informationen zur Verfügung. Erstellen Sie einen zweiten DataFrame, der diese Informationen enthält.\n",
    "\n",
    "|company|country|\n",
    "|--- |--- |\n",
    "|alfa-romero|ITA|\n",
    "|audi|GER|\n",
    "|bmw|GER|\n",
    "|volvo|SWE|\n",
    "|nissan|JAP|\n",
    "|mazda|JAP|\n",
    "\n",
    "2. Verbinden Sie die zwei DataFrames über einen `merge` ([Hint](https://pandas.pydata.org/pandas-docs/stable/reference/api/pandas.DataFrame.merge.html)). Stellen Sie sicher, dass die Datenpunkte welche keine Länderangabe haben nicht verloren gehen.\n",
    "3. Geben Sie in einem DataFrame aus, wieviel Fahrzeuge pro Land vorhanden sind und wie hoch der Durchschnittspreis pro Land liegt."
   ]
  },
  {
   "cell_type": "markdown",
   "metadata": {},
   "source": [
    "## Bonus"
   ]
  },
  {
   "cell_type": "markdown",
   "metadata": {},
   "source": [
    "Folgende Aufgaben sind als Bonus gedacht (für diejenigen die mit den vorherigen Aufgaben schon durch sind). Um sie zu lösen muss selbstständig nach den benötigten Methoden im Internet gesucht werden. \n",
    "1. Entfernen Sie die Spalte „body-styles“ vom DataFrame.\n",
    "2. Erstellen Sie einen neuen DataFrame der 10% zufällig ausgewählte Zeilen aus dem ursprünglichen DataFrame enthält.\n",
    "3. Fügen Sie die Zeilen des neuen DataFrames an den ursprünglichen DataFrame unten ran.\n",
    "4. Zählen Sie die Anzahl doppelter Einträge in diesem DataFrame."
   ]
  }
 ],
 "metadata": {
  "kernelspec": {
   "display_name": "ml-env",
   "language": "python",
   "name": "python3"
  },
  "language_info": {
   "codemirror_mode": {
    "name": "ipython",
    "version": 3
   },
   "file_extension": ".py",
   "mimetype": "text/x-python",
   "name": "python",
   "nbconvert_exporter": "python",
   "pygments_lexer": "ipython3",
   "version": "3.8.20"
  }
 },
 "nbformat": 4,
 "nbformat_minor": 4
}
