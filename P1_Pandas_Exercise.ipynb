{
 "cells": [
  {
   "cell_type": "markdown",
   "metadata": {},
   "source": [
    "# Praktische Übung 1: Pandas"
   ]
  },
  {
   "cell_type": "markdown",
   "metadata": {},
   "source": [
    "Lösen Sie die nachfolgenden Aufgaben und nutzen Sie das in der Vorlesung gezeigte Notebook `0_Pandas_Intro.ipynb` als Lösungshilfe."
   ]
  },
  {
   "cell_type": "markdown",
   "metadata": {},
   "source": [
    "## Aufgabe 1"
   ]
  },
  {
   "cell_type": "markdown",
   "metadata": {},
   "source": [
    "1. Laden Sie den Datensatz `automobile.csv` von GitHub aus dem Folder `data` runter.\n",
    "2. Laden Sie die Daten in diesem Notebook in einen Pandas DataFrame.\n",
    "3. Schauen Sie sich die Daten an und versuchen Sie zu verstehen was die Daten abbilden.\n",
    "4. Geben Sie folgende Daten aus:\n",
    "    1. Eine Liste aller Hersteller.\n",
    "    2. Wie oft welcher „body-style“ im Datensatz vorhanden ist.\n",
    "    3. Die fünf Autos mit dem niedrigsten Preis.\n",
    "    4. Die fünf Autos mit dem höchsten Preis"
   ]
  },
  {
   "cell_type": "code",
   "execution_count": 18,
   "metadata": {},
   "outputs": [
    {
     "data": {
      "text/plain": [
       "35    45400.0\n",
       "11    41315.0\n",
       "34    40960.0\n",
       "46    37028.0\n",
       "12    36880.0\n",
       "Name: price, dtype: float64"
      ]
     },
     "execution_count": 18,
     "metadata": {},
     "output_type": "execute_result"
    }
   ],
   "source": [
    "import pandas as pd\n",
    "automobile = pd.read_csv('.//data//automobile.csv')\n",
    "\n",
    "automobile.head()\n",
    "\n",
    "# 4.\n",
    "# 1)\n",
    "automobile[\"company\"].unique()\n",
    "\n",
    "# 2)\n",
    "automobile[\"body-style\"].value_counts()\n",
    "\n",
    "# 3)\n",
    "automobile[\"price\"].sort_values().head(5)\n",
    "\n",
    "# 4)\n",
    "automobile[\"price\"].sort_values(ascending=False).head(5)\n"
   ]
  },
  {
   "cell_type": "markdown",
   "metadata": {},
   "source": [
    "## Aufgabe 2"
   ]
  },
  {
   "cell_type": "markdown",
   "metadata": {},
   "source": [
    "1. Was ist der durchschnittliche Preis mit Bezug auf den „body-style“ eines Autos?\n",
    "2. Welches sind die drei „body-style“s mit den durchschnittlich höchsten Preisen?\n",
    "3. Welche Companies stellen „hardtop“ als „body-style“ her?\n",
    "4. Geben Sie alle Autos aus deren Herstellernamen mit \"a\" oder \"b\" beginnt ([Hint](https://pandas.pydata.org/docs/reference/api/pandas.Series.str.startswith.html)).\n",
    "5. Erstellen Sie je einen Scatterplot mit:\n",
    "    1. Scatterplot mit `x=\"horsepower\"` und `y=\"average-mileage\"`\n",
    "    2. Scatterplot mit `x=\"horsepower\"` und `y=\"price\"`"
   ]
  },
  {
   "cell_type": "code",
   "execution_count": 53,
   "metadata": {},
   "outputs": [
    {
     "name": "stdout",
     "output_type": "stream",
     "text": [
      "   index      company   body-style  wheel-base  length engine-type  \\\n",
      "0      0  alfa-romero  convertible        88.6   168.8        dohc   \n",
      "1      1  alfa-romero  convertible        88.6   168.8        dohc   \n",
      "2      2  alfa-romero    hatchback        94.5   171.2        ohcv   \n",
      "\n",
      "  num-of-cylinders  horsepower  average-mileage    price  \n",
      "0             four         111               21  13495.0  \n",
      "1             four         111               21  16500.0  \n",
      "2              six         154               19  16500.0  \n",
      "   index company body-style  wheel-base  length engine-type num-of-cylinders  \\\n",
      "3      3    audi      sedan        99.8   176.6         ohc             four   \n",
      "4      4    audi      sedan        99.4   176.6         ohc             five   \n",
      "5      5    audi      sedan        99.8   177.3         ohc             five   \n",
      "6      6    audi      wagon       105.8   192.7         ohc             five   \n",
      "\n",
      "   horsepower  average-mileage    price  \n",
      "3         102               24  13950.0  \n",
      "4         115               18  17450.0  \n",
      "5         110               19  15250.0  \n",
      "6         110               19  18920.0  \n",
      "    index company body-style  wheel-base  length engine-type num-of-cylinders  \\\n",
      "7       9     bmw      sedan       101.2   176.8         ohc             four   \n",
      "8      10     bmw      sedan       101.2   176.8         ohc             four   \n",
      "9      11     bmw      sedan       101.2   176.8         ohc              six   \n",
      "10     13     bmw      sedan       103.5   189.0         ohc              six   \n",
      "11     14     bmw      sedan       103.5   193.8         ohc              six   \n",
      "12     15     bmw      sedan       110.0   197.0         ohc              six   \n",
      "\n",
      "    horsepower  average-mileage    price  \n",
      "7          101               23  16430.0  \n",
      "8          101               23  16925.0  \n",
      "9          121               21  20970.0  \n",
      "10         182               16  30760.0  \n",
      "11         182               16  41315.0  \n",
      "12         182               15  36880.0  \n",
      "    index    company body-style  wheel-base  length engine-type  \\\n",
      "13     16  chevrolet  hatchback        88.4   141.1           l   \n",
      "14     17  chevrolet  hatchback        94.5   155.9         ohc   \n",
      "15     18  chevrolet      sedan        94.5   158.8         ohc   \n",
      "\n",
      "   num-of-cylinders  horsepower  average-mileage   price  \n",
      "13            three          48               47  5151.0  \n",
      "14             four          70               38  6295.0  \n",
      "15             four          70               38  6575.0  \n",
      "    index company body-style  wheel-base  length engine-type num-of-cylinders  \\\n",
      "16     19   dodge  hatchback        93.7   157.3         ohc             four   \n",
      "17     20   dodge  hatchback        93.7   157.3         ohc             four   \n",
      "\n",
      "    horsepower  average-mileage   price  \n",
      "16          68               31  6377.0  \n",
      "17          68               31  6229.0  \n",
      "    index company body-style  wheel-base  length engine-type num-of-cylinders  \\\n",
      "18     27   honda      wagon        96.5   157.1         ohc             four   \n",
      "19     28   honda      sedan        96.5   175.4         ohc             four   \n",
      "20     29   honda      sedan        96.5   169.1         ohc             four   \n",
      "\n",
      "    horsepower  average-mileage    price  \n",
      "18          76               30   7295.0  \n",
      "19         101               24  12945.0  \n",
      "20         100               25  10345.0  \n",
      "    index company body-style  wheel-base  length engine-type num-of-cylinders  \\\n",
      "21     30   isuzu      sedan        94.3   170.7         ohc             four   \n",
      "22     31   isuzu      sedan        94.5   155.9         ohc             four   \n",
      "23     32   isuzu      sedan        94.5   155.9         ohc             four   \n",
      "\n",
      "    horsepower  average-mileage   price  \n",
      "21          78               24  6785.0  \n",
      "22          70               38     NaN  \n",
      "23          70               38     NaN  \n",
      "    index company body-style  wheel-base  length engine-type num-of-cylinders  \\\n",
      "24     33  jaguar      sedan       113.0   199.6        dohc              six   \n",
      "25     34  jaguar      sedan       113.0   199.6        dohc              six   \n",
      "26     35  jaguar      sedan       102.0   191.7        ohcv           twelve   \n",
      "\n",
      "    horsepower  average-mileage    price  \n",
      "24         176               15  32250.0  \n",
      "25         176               15  35550.0  \n",
      "26         262               13  36000.0  \n",
      "    index company body-style  wheel-base  length engine-type num-of-cylinders  \\\n",
      "27     36   mazda  hatchback        93.1   159.1         ohc             four   \n",
      "28     37   mazda  hatchback        93.1   159.1         ohc             four   \n",
      "29     38   mazda  hatchback        93.1   159.1         ohc             four   \n",
      "30     39   mazda  hatchback        95.3   169.0       rotor              two   \n",
      "31     43   mazda      sedan       104.9   175.0         ohc             four   \n",
      "\n",
      "    horsepower  average-mileage    price  \n",
      "27          68               30   5195.0  \n",
      "28          68               31   6095.0  \n",
      "29          68               31   6795.0  \n",
      "30         101               17  11845.0  \n",
      "31          72               31  18344.0  \n",
      "    index        company body-style  wheel-base  length engine-type  \\\n",
      "32     44  mercedes-benz      sedan       110.0   190.9         ohc   \n",
      "33     45  mercedes-benz      wagon       110.0   190.9         ohc   \n",
      "34     46  mercedes-benz      sedan       120.9   208.1        ohcv   \n",
      "35     47  mercedes-benz    hardtop       112.0   199.2        ohcv   \n",
      "\n",
      "   num-of-cylinders  horsepower  average-mileage    price  \n",
      "32             five         123               22  25552.0  \n",
      "33             five         123               22  28248.0  \n",
      "34            eight         184               14  40960.0  \n",
      "35            eight         184               14  45400.0  \n",
      "    index     company body-style  wheel-base  length engine-type  \\\n",
      "36     49  mitsubishi  hatchback        93.7   157.3         ohc   \n",
      "37     50  mitsubishi  hatchback        93.7   157.3         ohc   \n",
      "38     51  mitsubishi      sedan        96.3   172.4         ohc   \n",
      "39     52  mitsubishi      sedan        96.3   172.4         ohc   \n",
      "\n",
      "   num-of-cylinders  horsepower  average-mileage   price  \n",
      "36             four          68               37  5389.0  \n",
      "37             four          68               31  6189.0  \n",
      "38             four          88               25  6989.0  \n",
      "39             four          88               25  8189.0  \n",
      "    index company body-style  wheel-base  length engine-type num-of-cylinders  \\\n",
      "40     53  nissan      sedan        94.5   165.3         ohc             four   \n",
      "41     54  nissan      sedan        94.5   165.3         ohc             four   \n",
      "42     55  nissan      sedan        94.5   165.3         ohc             four   \n",
      "43     56  nissan      wagon        94.5   170.2         ohc             four   \n",
      "44     57  nissan      sedan       100.4   184.6        ohcv              six   \n",
      "\n",
      "    horsepower  average-mileage    price  \n",
      "40          55               45   7099.0  \n",
      "41          69               31   6649.0  \n",
      "42          69               31   6849.0  \n",
      "43          69               31   7349.0  \n",
      "44         152               19  13499.0  \n",
      "    index  company   body-style  wheel-base  length engine-type  \\\n",
      "45     61  porsche      hardtop        89.5   168.9        ohcf   \n",
      "46     62  porsche  convertible        89.5   168.9        ohcf   \n",
      "47     63  porsche    hatchback        98.4   175.7       dohcv   \n",
      "\n",
      "   num-of-cylinders  horsepower  average-mileage    price  \n",
      "45              six         207               17  34028.0  \n",
      "46              six         207               17  37028.0  \n",
      "47            eight         288               17      NaN  \n",
      "    index company body-style  wheel-base  length engine-type num-of-cylinders  \\\n",
      "48     66  toyota  hatchback        95.7   158.7         ohc             four   \n",
      "49     67  toyota  hatchback        95.7   158.7         ohc             four   \n",
      "50     68  toyota  hatchback        95.7   158.7         ohc             four   \n",
      "51     69  toyota      wagon        95.7   169.7         ohc             four   \n",
      "52     70  toyota      wagon        95.7   169.7         ohc             four   \n",
      "53     71  toyota      wagon        95.7   169.7         ohc             four   \n",
      "54     79  toyota      wagon       104.5   187.8        dohc              six   \n",
      "\n",
      "    horsepower  average-mileage    price  \n",
      "48          62               35   5348.0  \n",
      "49          62               31   6338.0  \n",
      "50          62               31   6488.0  \n",
      "51          62               31   6918.0  \n",
      "52          62               27   7898.0  \n",
      "53          62               27   8778.0  \n",
      "54         156               19  15750.0  \n",
      "    index     company body-style  wheel-base  length engine-type  \\\n",
      "55     80  volkswagen      sedan        97.3   171.7         ohc   \n",
      "56     81  volkswagen      sedan        97.3   171.7         ohc   \n",
      "57     82  volkswagen      sedan        97.3   171.7         ohc   \n",
      "58     86  volkswagen      sedan        97.3   171.7         ohc   \n",
      "\n",
      "   num-of-cylinders  horsepower  average-mileage   price  \n",
      "55             four          52               37  7775.0  \n",
      "56             four          85               27  7975.0  \n",
      "57             four          52               37  7995.0  \n",
      "58             four         100               26  9995.0  \n",
      "    index company body-style  wheel-base  length engine-type num-of-cylinders  \\\n",
      "59     87   volvo      sedan       104.3   188.8         ohc             four   \n",
      "60     88   volvo      wagon       104.3   188.8         ohc             four   \n",
      "\n",
      "    horsepower  average-mileage    price  \n",
      "59         114               23  12940.0  \n",
      "60         114               23  13415.0  \n"
     ]
    }
   ],
   "source": [
    "# 1)\n",
    "avr_price = automobile.groupby(\"body-style\")[\"price\"].mean()\n",
    "\n",
    "# 2)\n",
    "avr_price.sort_values(ascending=False).head(3)\n",
    "\n",
    "# 3)\n",
    "automobile[automobile[\"body-style\"] == \"hardtop\"][\"company\"]\n",
    "\n",
    "# 4)\n",
    "\n",
    "\n"
   ]
  },
  {
   "cell_type": "markdown",
   "metadata": {},
   "source": [
    "## Aufgabe 3"
   ]
  },
  {
   "cell_type": "markdown",
   "metadata": {},
   "source": [
    "1. Zusätzlich stehen ihnen nachfolgende Informationen zur Verfügung. Erstellen Sie einen zweiten DataFrame, der diese Informationen enthält.\n",
    "\n",
    "|company|country|\n",
    "|--- |--- |\n",
    "|alfa-romero|ITA|\n",
    "|audi|GER|\n",
    "|bmw|GER|\n",
    "|volvo|SWE|\n",
    "|nissan|JAP|\n",
    "|mazda|JAP|\n",
    "\n",
    "2. Verbinden Sie die zwei DataFrames über einen `merge` ([Hint](https://pandas.pydata.org/pandas-docs/stable/reference/api/pandas.DataFrame.merge.html)). Stellen Sie sicher, dass die Datenpunkte welche keine Länderangabe haben nicht verloren gehen.\n",
    "3. Geben Sie in einem DataFrame aus, wieviel Fahrzeuge pro Land vorhanden sind und wie hoch der Durchschnittspreis pro Land liegt."
   ]
  },
  {
   "cell_type": "markdown",
   "metadata": {},
   "source": [
    "## Bonus"
   ]
  },
  {
   "cell_type": "markdown",
   "metadata": {},
   "source": [
    "Folgende Aufgaben sind als Bonus gedacht (für diejenigen die mit den vorherigen Aufgaben schon durch sind). Um sie zu lösen muss selbstständig nach den benötigten Methoden im Internet gesucht werden. \n",
    "1. Entfernen Sie die Spalte „body-styles“ vom DataFrame.\n",
    "2. Erstellen Sie einen neuen DataFrame der 10% zufällig ausgewählte Zeilen aus dem ursprünglichen DataFrame enthält.\n",
    "3. Fügen Sie die Zeilen des neuen DataFrames an den ursprünglichen DataFrame unten ran.\n",
    "4. Zählen Sie die Anzahl doppelter Einträge in diesem DataFrame."
   ]
  }
 ],
 "metadata": {
  "kernelspec": {
   "display_name": "ml-env",
   "language": "python",
   "name": "python3"
  },
  "language_info": {
   "codemirror_mode": {
    "name": "ipython",
    "version": 3
   },
   "file_extension": ".py",
   "mimetype": "text/x-python",
   "name": "python",
   "nbconvert_exporter": "python",
   "pygments_lexer": "ipython3",
   "version": "3.8.20"
  }
 },
 "nbformat": 4,
 "nbformat_minor": 4
}
