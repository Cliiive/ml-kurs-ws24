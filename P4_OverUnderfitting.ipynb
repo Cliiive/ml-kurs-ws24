{
 "cells": [
  {
   "cell_type": "markdown",
   "metadata": {},
   "source": [
    "# Regularisierung auf dem Titanic-Datensatz"
   ]
  },
  {
   "cell_type": "markdown",
   "metadata": {},
   "source": [
    "Hinweis: Da das Notebook nur das Prinizip der Regularisierung zeigen soll, ist der ML-Worflow in diesem Notebook stark vereinfacht (d.h. kein Auffüllen von N/As, kein Feature-Scaling und keine kategorischen Features)."
   ]
  },
  {
   "cell_type": "code",
   "execution_count": 70,
   "metadata": {},
   "outputs": [],
   "source": [
    "import pandas as pd\n",
    "import numpy as np\n",
    "from sklearn.model_selection import train_test_split\n",
    "from sklearn.linear_model import LogisticRegression\n",
    "from sklearn.metrics import accuracy_score\n",
    "\n",
    "pd.options.mode.chained_assignment = None  # avoid slide-copy-warning "
   ]
  },
  {
   "cell_type": "code",
   "execution_count": 71,
   "metadata": {
    "scrolled": true
   },
   "outputs": [
    {
     "data": {
      "text/html": [
       "<div>\n",
       "<style scoped>\n",
       "    .dataframe tbody tr th:only-of-type {\n",
       "        vertical-align: middle;\n",
       "    }\n",
       "\n",
       "    .dataframe tbody tr th {\n",
       "        vertical-align: top;\n",
       "    }\n",
       "\n",
       "    .dataframe thead th {\n",
       "        text-align: right;\n",
       "    }\n",
       "</style>\n",
       "<table border=\"1\" class=\"dataframe\">\n",
       "  <thead>\n",
       "    <tr style=\"text-align: right;\">\n",
       "      <th></th>\n",
       "      <th>PassengerId</th>\n",
       "      <th>Survived</th>\n",
       "      <th>Pclass</th>\n",
       "      <th>Name</th>\n",
       "      <th>Sex</th>\n",
       "      <th>Age</th>\n",
       "      <th>SibSp</th>\n",
       "      <th>Parch</th>\n",
       "      <th>Ticket</th>\n",
       "      <th>Fare</th>\n",
       "      <th>Cabin</th>\n",
       "      <th>Embarked</th>\n",
       "    </tr>\n",
       "  </thead>\n",
       "  <tbody>\n",
       "    <tr>\n",
       "      <th>0</th>\n",
       "      <td>1</td>\n",
       "      <td>0</td>\n",
       "      <td>3</td>\n",
       "      <td>Braund, Mr. Owen Harris</td>\n",
       "      <td>male</td>\n",
       "      <td>22.0</td>\n",
       "      <td>1</td>\n",
       "      <td>0</td>\n",
       "      <td>A/5 21171</td>\n",
       "      <td>7.2500</td>\n",
       "      <td>NaN</td>\n",
       "      <td>S</td>\n",
       "    </tr>\n",
       "    <tr>\n",
       "      <th>1</th>\n",
       "      <td>2</td>\n",
       "      <td>1</td>\n",
       "      <td>1</td>\n",
       "      <td>Cumings, Mrs. John Bradley (Florence Briggs Th...</td>\n",
       "      <td>female</td>\n",
       "      <td>38.0</td>\n",
       "      <td>1</td>\n",
       "      <td>0</td>\n",
       "      <td>PC 17599</td>\n",
       "      <td>71.2833</td>\n",
       "      <td>C85</td>\n",
       "      <td>C</td>\n",
       "    </tr>\n",
       "    <tr>\n",
       "      <th>2</th>\n",
       "      <td>3</td>\n",
       "      <td>1</td>\n",
       "      <td>3</td>\n",
       "      <td>Heikkinen, Miss. Laina</td>\n",
       "      <td>female</td>\n",
       "      <td>26.0</td>\n",
       "      <td>0</td>\n",
       "      <td>0</td>\n",
       "      <td>STON/O2. 3101282</td>\n",
       "      <td>7.9250</td>\n",
       "      <td>NaN</td>\n",
       "      <td>S</td>\n",
       "    </tr>\n",
       "    <tr>\n",
       "      <th>3</th>\n",
       "      <td>4</td>\n",
       "      <td>1</td>\n",
       "      <td>1</td>\n",
       "      <td>Futrelle, Mrs. Jacques Heath (Lily May Peel)</td>\n",
       "      <td>female</td>\n",
       "      <td>35.0</td>\n",
       "      <td>1</td>\n",
       "      <td>0</td>\n",
       "      <td>113803</td>\n",
       "      <td>53.1000</td>\n",
       "      <td>C123</td>\n",
       "      <td>S</td>\n",
       "    </tr>\n",
       "    <tr>\n",
       "      <th>4</th>\n",
       "      <td>5</td>\n",
       "      <td>0</td>\n",
       "      <td>3</td>\n",
       "      <td>Allen, Mr. William Henry</td>\n",
       "      <td>male</td>\n",
       "      <td>35.0</td>\n",
       "      <td>0</td>\n",
       "      <td>0</td>\n",
       "      <td>373450</td>\n",
       "      <td>8.0500</td>\n",
       "      <td>NaN</td>\n",
       "      <td>S</td>\n",
       "    </tr>\n",
       "  </tbody>\n",
       "</table>\n",
       "</div>"
      ],
      "text/plain": [
       "   PassengerId  Survived  Pclass  \\\n",
       "0            1         0       3   \n",
       "1            2         1       1   \n",
       "2            3         1       3   \n",
       "3            4         1       1   \n",
       "4            5         0       3   \n",
       "\n",
       "                                                Name     Sex   Age  SibSp  \\\n",
       "0                            Braund, Mr. Owen Harris    male  22.0      1   \n",
       "1  Cumings, Mrs. John Bradley (Florence Briggs Th...  female  38.0      1   \n",
       "2                             Heikkinen, Miss. Laina  female  26.0      0   \n",
       "3       Futrelle, Mrs. Jacques Heath (Lily May Peel)  female  35.0      1   \n",
       "4                           Allen, Mr. William Henry    male  35.0      0   \n",
       "\n",
       "   Parch            Ticket     Fare Cabin Embarked  \n",
       "0      0         A/5 21171   7.2500   NaN        S  \n",
       "1      0          PC 17599  71.2833   C85        C  \n",
       "2      0  STON/O2. 3101282   7.9250   NaN        S  \n",
       "3      0            113803  53.1000  C123        S  \n",
       "4      0            373450   8.0500   NaN        S  "
      ]
     },
     "execution_count": 71,
     "metadata": {},
     "output_type": "execute_result"
    }
   ],
   "source": [
    "df = pd.read_csv(\"data/titanic.csv\")\n",
    "df.head()"
   ]
  },
  {
   "cell_type": "code",
   "execution_count": 72,
   "metadata": {},
   "outputs": [
    {
     "data": {
      "text/html": [
       "<div>\n",
       "<style scoped>\n",
       "    .dataframe tbody tr th:only-of-type {\n",
       "        vertical-align: middle;\n",
       "    }\n",
       "\n",
       "    .dataframe tbody tr th {\n",
       "        vertical-align: top;\n",
       "    }\n",
       "\n",
       "    .dataframe thead th {\n",
       "        text-align: right;\n",
       "    }\n",
       "</style>\n",
       "<table border=\"1\" class=\"dataframe\">\n",
       "  <thead>\n",
       "    <tr style=\"text-align: right;\">\n",
       "      <th></th>\n",
       "      <th>Survived</th>\n",
       "      <th>Pclass</th>\n",
       "      <th>Age</th>\n",
       "      <th>SibSp</th>\n",
       "      <th>Parch</th>\n",
       "      <th>Fare</th>\n",
       "    </tr>\n",
       "  </thead>\n",
       "  <tbody>\n",
       "    <tr>\n",
       "      <th>0</th>\n",
       "      <td>0</td>\n",
       "      <td>3</td>\n",
       "      <td>22.0</td>\n",
       "      <td>1</td>\n",
       "      <td>0</td>\n",
       "      <td>7.2500</td>\n",
       "    </tr>\n",
       "    <tr>\n",
       "      <th>1</th>\n",
       "      <td>1</td>\n",
       "      <td>1</td>\n",
       "      <td>38.0</td>\n",
       "      <td>1</td>\n",
       "      <td>0</td>\n",
       "      <td>71.2833</td>\n",
       "    </tr>\n",
       "    <tr>\n",
       "      <th>2</th>\n",
       "      <td>1</td>\n",
       "      <td>3</td>\n",
       "      <td>26.0</td>\n",
       "      <td>0</td>\n",
       "      <td>0</td>\n",
       "      <td>7.9250</td>\n",
       "    </tr>\n",
       "    <tr>\n",
       "      <th>3</th>\n",
       "      <td>1</td>\n",
       "      <td>1</td>\n",
       "      <td>35.0</td>\n",
       "      <td>1</td>\n",
       "      <td>0</td>\n",
       "      <td>53.1000</td>\n",
       "    </tr>\n",
       "    <tr>\n",
       "      <th>4</th>\n",
       "      <td>0</td>\n",
       "      <td>3</td>\n",
       "      <td>35.0</td>\n",
       "      <td>0</td>\n",
       "      <td>0</td>\n",
       "      <td>8.0500</td>\n",
       "    </tr>\n",
       "  </tbody>\n",
       "</table>\n",
       "</div>"
      ],
      "text/plain": [
       "   Survived  Pclass   Age  SibSp  Parch     Fare\n",
       "0         0       3  22.0      1      0   7.2500\n",
       "1         1       1  38.0      1      0  71.2833\n",
       "2         1       3  26.0      0      0   7.9250\n",
       "3         1       1  35.0      1      0  53.1000\n",
       "4         0       3  35.0      0      0   8.0500"
      ]
     },
     "execution_count": 72,
     "metadata": {},
     "output_type": "execute_result"
    }
   ],
   "source": [
    "df_selection = df[[\"Survived\", \"Pclass\", \"Age\", \"SibSp\", \"Parch\", \"Fare\"]]\n",
    "df_selection = df_selection.dropna()\n",
    "df_selection.head()"
   ]
  },
  {
   "cell_type": "code",
   "execution_count": 73,
   "metadata": {},
   "outputs": [],
   "source": [
    "df_X = df_selection.drop(columns = [\"Survived\"])\n",
    "df_y = df_selection[\"Survived\"]\n",
    "X_train, X_test, y_train, y_test = train_test_split(df_X, df_y, test_size=0.2, random_state=0)"
   ]
  },
  {
   "cell_type": "markdown",
   "metadata": {},
   "source": [
    "## Aufgaben:"
   ]
  },
  {
   "cell_type": "markdown",
   "metadata": {},
   "source": [
    "### Aufgabe 1: Ridge-Regularisierung\n",
    "1. Trainieren Sie eine Logistische Regression mit Ridge-Regularisierung (siehe [RidgeClassifier](https://scikit-learn.org/stable/modules/generated/sklearn.linear_model.RidgeClassifier.html)) mit $\\alpha =100$ auf den Trainingsdaten.\n",
    "2. Bestimmen Sie die Accuracy auf den Testdaten."
   ]
  },
  {
   "cell_type": "code",
   "execution_count": 74,
   "metadata": {},
   "outputs": [
    {
     "data": {
      "text/plain": [
       "0.6713286713286714"
      ]
     },
     "execution_count": 74,
     "metadata": {},
     "output_type": "execute_result"
    }
   ],
   "source": [
    "from sklearn.linear_model import RidgeClassifier\n",
    "\n",
    "ridge = RidgeClassifier(alpha=100)\n",
    "ridge.fit(X_train, y_train)\n",
    "\n",
    "y_pred = ridge.predict(X_test)\n",
    "accuracy_score(y_test, y_pred)\n"
   ]
  },
  {
   "cell_type": "markdown",
   "metadata": {},
   "source": [
    "### Aufgabe 2: Cross-Validation über $\\alpha$\n",
    "1. Führen Sie nun eine Cross-Validation mit Hilfe der Klasse [RidgeClassifierCV](https://scikit-learn.org/stable/modules/generated/sklearn.linear_model.RidgeClassifierCV.html) durch. Benutzen Sie dafür die gleichen Werte für $\\alpha$ wie im Notebook [`4_OverUnderfitting.ipynb`](4_OverUnderfitting.ipynb) in Zelle 9.\n",
    "2. Bestimmen Sie die Accuracy auf den Testdaten."
   ]
  },
  {
   "cell_type": "code",
   "execution_count": 75,
   "metadata": {},
   "outputs": [
    {
     "name": "stdout",
     "output_type": "stream",
     "text": [
      "6\n",
      "0.6853146853146853\n"
     ]
    }
   ],
   "source": [
    "from sklearn.linear_model import RidgeClassifierCV\n",
    "\n",
    "alphas = list(range(1, 10000))\n",
    "\n",
    "ridge_cv = RidgeClassifierCV(alphas=alphas)\n",
    "ridge_cv.fit(X_train, y_train)\n",
    "print(ridge_cv.alpha_)\n",
    "\n",
    "y_pred = ridge_cv.predict(X_test)\n",
    "print(accuracy_score(y_test, y_pred))"
   ]
  },
  {
   "cell_type": "markdown",
   "metadata": {},
   "source": [
    "### Aufgabe 3:  Lasso-Regularisierung\n",
    "Für die Lasso-Regularisierung gibt es keine extra Unterklasse, da diese bei der Klasse `LogisitcRegression` über den Parameter `penalty` eingestellt werden kann. Mit dem Parameter `penalty = \"l1\"` wird die Lasso-Regression verwendet.\n",
    "Der Regularisierungsfaktor $\\alpha$ wird in diesem Fall über den Parameter `C` bestimmt, welcher den Default-Wert `C=1.0` hat:\n",
    "\n",
    "`LogisticRegression(max_iter=1000, penalty = \"l1\", C=1.0, solver=\"liblinear\")`\n",
    "\n",
    "Beachten Sie dabei:\n",
    "- Für die Regression ist das zusätzliche Argument `solver=\"liblinear\"` nötig, da der Standard-Optimierer nicht mit `L1` funktioniert.\n",
    "- Parameter `C` gibt die <ins>inverse</ins> Stärke der Regularisierung an (Details siehe [hier](https://scikit-learn.org/stable/modules/generated/sklearn.linear_model.LogisticRegression.html)).\n",
    "\n",
    "\n",
    "1. Trainieren Sie eine Logistische Regression mit Lasso-Regression für verschiedene Parameter `C`:\n",
    "    - den Default-Wert `C=1.0`.\n",
    "    - wählen Sie `C` so, dass das Modell sehr stark regularisiert ist.\n",
    "    - wählen Sie `C` so, dass das Modell keine Regularisierung hat.\n",
    "2. Vergleiche Sie die Ergebnisse dieser Modelle indem Sie:\n",
    "    - die Gewichte und deren Summe ausgeben (wie im Notebook [`4_OverUnderfitting.ipynb`](4_OverUnderfitting.ipynb)).\n",
    "    - die Accuracy auf den Testdaten ermitteln. "
   ]
  },
  {
   "cell_type": "code",
   "execution_count": 76,
   "metadata": {},
   "outputs": [
    {
     "name": "stdout",
     "output_type": "stream",
     "text": [
      "MSE: 0.3076923076923077\n",
      "Accuracy: 0.6923076923076923\n"
     ]
    },
    {
     "data": {
      "image/png": "[encoded data removed]",
      "text/plain": [
       "<Figure size 640x480 with 1 Axes>"
      ]
     },
     "metadata": {},
     "output_type": "display_data"
    }
   ],
   "source": [
    "from sklearn.metrics import mean_squared_error\n",
    "\n",
    "\n",
    "def predict(n):\n",
    "    reg = LogisticRegression(max_iter=1000, penalty= \"l1\", C=n, solver=\"liblinear\")\n",
    "    reg.fit(X_train, y_train)\n",
    "    y_pred = reg.predict(X_test)\n",
    "    mse = mean_squared_error(y_test, y_pred)\n",
    "    print(f\"MSE: {mse}\")\n",
    "    print(f\"Accuracy: {accuracy_score(y_test, y_pred)}\")\n",
    "    pd.Series(reg.coef_[0], index = df_X.columns).plot(kind='bar')\n",
    "predict(1)"
   ]
  },
  {
   "cell_type": "code",
   "execution_count": 77,
   "metadata": {},
   "outputs": [
    {
     "name": "stdout",
     "output_type": "stream",
     "text": [
      "MSE: 0.3356643356643357\n",
      "Accuracy: 0.6643356643356644\n"
     ]
    },
    {
     "data": {
      "image/png": "[encoded data removed]",
      "text/plain": [
       "<Figure size 640x480 with 1 Axes>"
      ]
     },
     "metadata": {},
     "output_type": "display_data"
    }
   ],
   "source": [
    "predict(0.01)"
   ]
  },
  {
   "cell_type": "code",
   "execution_count": 78,
   "metadata": {},
   "outputs": [
    {
     "name": "stdout",
     "output_type": "stream",
     "text": [
      "MSE: 0.3146853146853147\n",
      "Accuracy: 0.6853146853146853\n"
     ]
    },
    {
     "data": {
      "image/png": "[encoded data removed]",
      "text/plain": [
       "<Figure size 640x480 with 1 Axes>"
      ]
     },
     "metadata": {},
     "output_type": "display_data"
    }
   ],
   "source": [
    "predict(1000)"
   ]
  },
  {
   "cell_type": "markdown",
   "metadata": {},
   "source": [
    "### Aufgabe 4. Cross-Validierung über  `C`\n",
    "Ein guter Wert für `C` soll nun mit Hilfe der Methode `cross_val_score` gefunden werden. Ein Beispiel für diese Methode ist:"
   ]
  },
  {
   "cell_type": "code",
   "execution_count": 82,
   "metadata": {},
   "outputs": [],
   "source": [
    "from sklearn.model_selection import cross_val_score\n",
    "\n",
    "model = LogisticRegression(max_iter=1000, penalty = \"l1\", C=1.0, solver=\"liblinear\")\n",
    "cvs = cross_val_score(model, X_train, y_train, cv=5, scoring=\"accuracy\")"
   ]
  },
  {
   "cell_type": "markdown",
   "metadata": {},
   "source": [
    "Die Methode führt eine k-fold Cross-Validation auf den Trainingsdaten durch und gibt für jeden der k-folds den Score (in diesem Fall \"accuracy\") des Modell auf den jeweiligen Validierungsdaten zurück."
   ]
  },
  {
   "cell_type": "markdown",
   "metadata": {},
   "source": [
    "1. Berechnen Sie den Durchschnitt der Rückgabewerte von `cross_val_score` um für das gegebene `model` den durchschnittlichen Accuarcy-Score über alle k-folds zu erhalten.\n",
    "2. Berechnen Sie für jeden der Werte $ C \\in [0.1, 0.2, ...,9.8, 9.9]$ den durchschnittlichen Accuarcy-Score.\n",
    "3. Trainieren Sie das Modell mit dem besten Wert für $C$ auf allen Trainingsdaten.\n",
    "4. Bestimmen Sie die Accuracy dieses Modells auf den Testdaten."
   ]
  },
  {
   "cell_type": "code",
   "execution_count": 87,
   "metadata": {},
   "outputs": [
    {
     "name": "stdout",
     "output_type": "stream",
     "text": [
      "Average Cross Validation Score for C=0.1: 0.6953012967200609\n",
      "Average Cross Validation Score for C=0.2: 0.7041189931350115\n",
      "Average Cross Validation Score for C=0.30000000000000004: 0.7216475972540046\n",
      "Average Cross Validation Score for C=0.4: 0.7128756674294433\n",
      "Average Cross Validation Score for C=0.5: 0.7093668954996186\n",
      "Average Cross Validation Score for C=0.6: 0.7058733790999238\n",
      "Average Cross Validation Score for C=0.7000000000000001: 0.7041189931350115\n",
      "Average Cross Validation Score for C=0.8: 0.7023646071700992\n",
      "Average Cross Validation Score for C=0.9: 0.7023646071700992\n",
      "Average Cross Validation Score for C=1.0: 0.6988558352402746\n",
      "Average Cross Validation Score for C=1.1: 0.7006102212051869\n",
      "Average Cross Validation Score for C=1.2000000000000002: 0.7006102212051869\n",
      "Average Cross Validation Score for C=1.3000000000000003: 0.6988558352402746\n",
      "Average Cross Validation Score for C=1.4000000000000001: 0.6988558352402746\n",
      "Average Cross Validation Score for C=1.5000000000000002: 0.7005949656750572\n",
      "Average Cross Validation Score for C=1.6: 0.7005949656750572\n",
      "Average Cross Validation Score for C=1.7000000000000002: 0.698840579710145\n",
      "Average Cross Validation Score for C=1.8000000000000003: 0.698840579710145\n",
      "Average Cross Validation Score for C=1.9000000000000001: 0.6970861937452326\n",
      "Average Cross Validation Score for C=2.0: 0.6970861937452326\n",
      "Average Cross Validation Score for C=2.1: 0.6970861937452326\n",
      "Average Cross Validation Score for C=2.2: 0.6970861937452326\n",
      "Average Cross Validation Score for C=2.3000000000000003: 0.6970861937452326\n",
      "Average Cross Validation Score for C=2.4000000000000004: 0.6970861937452326\n",
      "Average Cross Validation Score for C=2.5000000000000004: 0.6970861937452326\n",
      "Average Cross Validation Score for C=2.6: 0.6970861937452326\n",
      "Average Cross Validation Score for C=2.7: 0.6970861937452326\n",
      "Average Cross Validation Score for C=2.8000000000000003: 0.6970861937452326\n",
      "Average Cross Validation Score for C=2.9000000000000004: 0.6953318077803203\n",
      "Average Cross Validation Score for C=3.0000000000000004: 0.6970861937452326\n",
      "Average Cross Validation Score for C=3.1: 0.6953318077803203\n",
      "Average Cross Validation Score for C=3.2: 0.6953318077803203\n",
      "Average Cross Validation Score for C=3.3000000000000003: 0.6953318077803203\n",
      "Average Cross Validation Score for C=3.4000000000000004: 0.6953318077803203\n",
      "Average Cross Validation Score for C=3.5000000000000004: 0.693577421815408\n",
      "Average Cross Validation Score for C=3.6: 0.693577421815408\n",
      "Average Cross Validation Score for C=3.7: 0.693577421815408\n",
      "Average Cross Validation Score for C=3.8000000000000003: 0.693577421815408\n",
      "Average Cross Validation Score for C=3.9000000000000004: 0.693577421815408\n",
      "Average Cross Validation Score for C=4.0: 0.693577421815408\n",
      "Average Cross Validation Score for C=4.1: 0.693577421815408\n",
      "Average Cross Validation Score for C=4.2: 0.693577421815408\n",
      "Average Cross Validation Score for C=4.3: 0.693577421815408\n",
      "Average Cross Validation Score for C=4.3999999999999995: 0.693577421815408\n",
      "Average Cross Validation Score for C=4.5: 0.693577421815408\n",
      "Average Cross Validation Score for C=4.6: 0.693577421815408\n",
      "Average Cross Validation Score for C=4.7: 0.693577421815408\n",
      "Average Cross Validation Score for C=4.8: 0.693577421815408\n",
      "Average Cross Validation Score for C=4.9: 0.693577421815408\n",
      "Average Cross Validation Score for C=5.0: 0.693577421815408\n",
      "Average Cross Validation Score for C=5.1: 0.693577421815408\n",
      "Average Cross Validation Score for C=5.2: 0.693577421815408\n",
      "Average Cross Validation Score for C=5.3: 0.693577421815408\n",
      "Average Cross Validation Score for C=5.4: 0.693577421815408\n",
      "Average Cross Validation Score for C=5.5: 0.693577421815408\n",
      "Average Cross Validation Score for C=5.6: 0.6918230358504958\n",
      "Average Cross Validation Score for C=5.7: 0.6918230358504958\n",
      "Average Cross Validation Score for C=5.8: 0.693577421815408\n",
      "Average Cross Validation Score for C=5.9: 0.693577421815408\n",
      "Average Cross Validation Score for C=6.0: 0.6918230358504958\n",
      "Average Cross Validation Score for C=6.1: 0.6918230358504958\n",
      "Average Cross Validation Score for C=6.2: 0.6918230358504958\n",
      "Average Cross Validation Score for C=6.3: 0.6918230358504958\n",
      "Average Cross Validation Score for C=6.4: 0.6918230358504958\n",
      "Average Cross Validation Score for C=6.5: 0.6918230358504958\n",
      "Average Cross Validation Score for C=6.6: 0.6918230358504958\n",
      "Average Cross Validation Score for C=6.7: 0.6918230358504958\n",
      "Average Cross Validation Score for C=6.8: 0.6918230358504958\n",
      "Average Cross Validation Score for C=6.9: 0.693577421815408\n",
      "Average Cross Validation Score for C=7.0: 0.693577421815408\n",
      "Average Cross Validation Score for C=7.1: 0.6900686498855835\n",
      "Average Cross Validation Score for C=7.2: 0.693577421815408\n",
      "Average Cross Validation Score for C=7.3: 0.6918230358504958\n",
      "Average Cross Validation Score for C=7.4: 0.693577421815408\n",
      "Average Cross Validation Score for C=7.5: 0.6900686498855835\n",
      "Average Cross Validation Score for C=7.6: 0.6918230358504959\n",
      "Average Cross Validation Score for C=7.7: 0.6918230358504959\n",
      "Average Cross Validation Score for C=7.8: 0.6918230358504959\n",
      "Average Cross Validation Score for C=7.9: 0.693577421815408\n",
      "Average Cross Validation Score for C=8.0: 0.6918230358504959\n",
      "Average Cross Validation Score for C=8.1: 0.6918230358504959\n",
      "Average Cross Validation Score for C=8.2: 0.693577421815408\n",
      "Average Cross Validation Score for C=8.3: 0.6918230358504959\n",
      "Average Cross Validation Score for C=8.4: 0.6918230358504959\n",
      "Average Cross Validation Score for C=8.5: 0.6918230358504959\n",
      "Average Cross Validation Score for C=8.6: 0.6918230358504959\n",
      "Average Cross Validation Score for C=8.7: 0.6918230358504959\n",
      "Average Cross Validation Score for C=8.8: 0.693577421815408\n",
      "Average Cross Validation Score for C=8.9: 0.6918230358504959\n",
      "Average Cross Validation Score for C=9.0: 0.6918230358504959\n",
      "Average Cross Validation Score for C=9.1: 0.693577421815408\n",
      "Average Cross Validation Score for C=9.2: 0.6918230358504959\n",
      "Average Cross Validation Score for C=9.3: 0.693577421815408\n",
      "Average Cross Validation Score for C=9.4: 0.6918230358504959\n",
      "Average Cross Validation Score for C=9.5: 0.6918230358504959\n",
      "Average Cross Validation Score for C=9.6: 0.693577421815408\n",
      "Average Cross Validation Score for C=9.700000000000001: 0.6918230358504959\n",
      "Average Cross Validation Score for C=9.8: 0.6918230358504959\n",
      "Average Cross Validation Score for C=9.9: 0.6918230358504959\n",
      "Best C: 0.30000000000000004\n",
      "Accuracy: 0.6923076923076923\n"
     ]
    }
   ],
   "source": [
    "#dictonary with c and average cross validation score\n",
    "cvs_dict = {}\n",
    "\n",
    "for i in np.arange(0.1, 10, 0.1):\n",
    "    model = LogisticRegression(max_iter=1000, penalty = \"l1\", C=i, solver=\"liblinear\")\n",
    "    cvs = cross_val_score(model, X_train, y_train, cv=5, scoring=\"accuracy\")\n",
    "    avr_cvs = np.mean(cvs)\n",
    "    print(f\"Average Cross Validation Score for C={i}: {avr_cvs}\")\n",
    "    cvs_dict[i] = avr_cvs\n",
    "\n",
    "best_c = max(cvs_dict, key=cvs_dict.get)\n",
    "\n",
    "print(f\"Best C: {best_c}\")\n",
    "\n",
    "model = LogisticRegression(max_iter=1000, penalty = \"l1\", C=best_c, solver=\"liblinear\")\n",
    "model.fit(X_train, y_train)\n",
    "y_pred = model.predict(X_test)\n",
    "print(f\"Accuracy: {accuracy_score(y_test, y_pred)}\")"
   ]
  }
 ],
 "metadata": {
  "kernelspec": {
   "display_name": "ml-env",
   "language": "python",
   "name": "python3"
  },
  "language_info": {
   "codemirror_mode": {
    "name": "ipython",
    "version": 3
   },
   "file_extension": ".py",
   "mimetype": "text/x-python",
   "name": "python",
   "nbconvert_exporter": "python",
   "pygments_lexer": "ipython3",
   "version": "3.8.20"
  }
 },
 "nbformat": 4,
 "nbformat_minor": 4
}
