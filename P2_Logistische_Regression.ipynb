{
 "cells": [
  {
   "cell_type": "markdown",
   "metadata": {},
   "source": [
    "# Praktische Übung 2: Logistische Regresssion"
   ]
  },
  {
   "cell_type": "markdown",
   "metadata": {},
   "source": [
    "## Der Titanic Datensatz\n",
    "\n",
    "\n",
    "Gegeben: Verschiedene Attribute zu den Passagieren auf der Titanic. <br>\n",
    "Frage: Hat der Passagier das Unglück überlebt?"
   ]
  },
  {
   "cell_type": "markdown",
   "metadata": {},
   "source": [
    "Da wir den Umgang mit kategorischen Features noch nicht eingeführt haben benutzen wir nur folgende Attribute: <br>\n",
    "- `Pclass`: Passenger cabin class (1 = 1st, 2 = 2nd, 3 = 3rd)\n",
    "- `Age`: Age of passenger\n",
    "- `SibSp`: Number of siblings/spouses aboard\n",
    "- `Parch`: Number of children/parents aboard\n",
    "- `Fare`: Passender Fare (brithish pound)\n",
    "- `Survived`: Did passenger survive? (0 = no, 1 = yes)"
   ]
  },
  {
   "cell_type": "markdown",
   "metadata": {},
   "source": [
    "## Aufgabe 1"
   ]
  },
  {
   "cell_type": "markdown",
   "metadata": {},
   "source": [
    "1. Laden Sie den Datensatz aus `titanic.csv` in einen Pandas DataFrame. Die Daten befinden sich im `/data` folder auf GitHub.\n",
    "2. Erstellen Sie einen neuen DataFrame, der nur die folgenden Spalten enthält: \"Survived\", \"Pclass\", \"Age\", \"Fare\", \"SibSp\", \"Parch\"\n",
    "3. Entfernen Sie die leeren Felder aus dem DataFrame (d.h. Felder mit `NaN`-Werten) indem sie die Methode `dropna()` auf dem DataFrame aufrufen. <br>Zählen Sie wie viele Zeilen der DataFrame vor und nach dem Aufruf hat. "
   ]
  },
  {
   "cell_type": "code",
   "execution_count": 24,
   "metadata": {},
   "outputs": [
    {
     "name": "stdout",
     "output_type": "stream",
     "text": [
      "891\n",
      "714\n"
     ]
    },
    {
     "data": {
      "text/html": [
       "<div>\n",
       "<style scoped>\n",
       "    .dataframe tbody tr th:only-of-type {\n",
       "        vertical-align: middle;\n",
       "    }\n",
       "\n",
       "    .dataframe tbody tr th {\n",
       "        vertical-align: top;\n",
       "    }\n",
       "\n",
       "    .dataframe thead th {\n",
       "        text-align: right;\n",
       "    }\n",
       "</style>\n",
       "<table border=\"1\" class=\"dataframe\">\n",
       "  <thead>\n",
       "    <tr style=\"text-align: right;\">\n",
       "      <th></th>\n",
       "      <th>Survived</th>\n",
       "      <th>Pclass</th>\n",
       "      <th>Age</th>\n",
       "      <th>SibSp</th>\n",
       "      <th>Parch</th>\n",
       "      <th>Fare</th>\n",
       "    </tr>\n",
       "  </thead>\n",
       "  <tbody>\n",
       "    <tr>\n",
       "      <th>0</th>\n",
       "      <td>0</td>\n",
       "      <td>3</td>\n",
       "      <td>22.0</td>\n",
       "      <td>1</td>\n",
       "      <td>0</td>\n",
       "      <td>7.2500</td>\n",
       "    </tr>\n",
       "    <tr>\n",
       "      <th>1</th>\n",
       "      <td>1</td>\n",
       "      <td>1</td>\n",
       "      <td>38.0</td>\n",
       "      <td>1</td>\n",
       "      <td>0</td>\n",
       "      <td>71.2833</td>\n",
       "    </tr>\n",
       "    <tr>\n",
       "      <th>2</th>\n",
       "      <td>1</td>\n",
       "      <td>3</td>\n",
       "      <td>26.0</td>\n",
       "      <td>0</td>\n",
       "      <td>0</td>\n",
       "      <td>7.9250</td>\n",
       "    </tr>\n",
       "    <tr>\n",
       "      <th>3</th>\n",
       "      <td>1</td>\n",
       "      <td>1</td>\n",
       "      <td>35.0</td>\n",
       "      <td>1</td>\n",
       "      <td>0</td>\n",
       "      <td>53.1000</td>\n",
       "    </tr>\n",
       "    <tr>\n",
       "      <th>4</th>\n",
       "      <td>0</td>\n",
       "      <td>3</td>\n",
       "      <td>35.0</td>\n",
       "      <td>0</td>\n",
       "      <td>0</td>\n",
       "      <td>8.0500</td>\n",
       "    </tr>\n",
       "  </tbody>\n",
       "</table>\n",
       "</div>"
      ],
      "text/plain": [
       "   Survived  Pclass   Age  SibSp  Parch     Fare\n",
       "0         0       3  22.0      1      0   7.2500\n",
       "1         1       1  38.0      1      0  71.2833\n",
       "2         1       3  26.0      0      0   7.9250\n",
       "3         1       1  35.0      1      0  53.1000\n",
       "4         0       3  35.0      0      0   8.0500"
      ]
     },
     "execution_count": 24,
     "metadata": {},
     "output_type": "execute_result"
    }
   ],
   "source": [
    "import pandas as pd\n",
    "data = pd.read_csv('/home/jonas/uni/Semester_3/MaschinellesLernen/ml-kurs-ws24/data/titanic.csv')\n",
    "data = data.drop(['PassengerId', 'Name', 'Sex', 'Ticket', 'Cabin', 'Embarked'], axis=1)\n",
    "print(len(data))\n",
    "data = data.dropna()\n",
    "print(len(data))\n",
    "data.head()"
   ]
  },
  {
   "cell_type": "markdown",
   "metadata": {},
   "source": [
    "## Aufgabe 2"
   ]
  },
  {
   "cell_type": "markdown",
   "metadata": {},
   "source": [
    "1. Unterteilen Sie den aus Aufgabe 1 entstandenen DataFrame mit Hilfe der Methode `train_test_split` in Trainings- und Testdaten. Nutzen Sie dabei zur besseren Vergleichbarkeit das Argument `random_state=0`.\n",
    "2. Trainieren Sie eine logistische Regression auf den Trainingsdaten mit \"Survived\" als Label. \n",
    "3. Machen Sie mit dem trainierten Model Vorhersagen auf den Testdaten und berechnen Sie:\n",
    "    - Accuracy (`~0.69`)\n",
    "    - Precision (`~0.72`)\n",
    "    - Recall (`~0.53`)"
   ]
  },
  {
   "cell_type": "code",
   "execution_count": 22,
   "metadata": {},
   "outputs": [],
   "source": [
    "from sklearn.model_selection import train_test_split\n",
    "import numpy as np\n",
    "\n",
    "# split data into train and test\n",
    "data_no_label = data.drop([\"Survived\"], axis=1)\n",
    "x_train, x_test, y_train, y_test = train_test_split(data_no_label, data[\"Survived\"], test_size=0.2, random_state=0)\n",
    "\n",
    "# train the model\n",
    "from sklearn.linear_model import LogisticRegression\n",
    "ligisticRegr = LogisticRegression(max_iter=1000) # Gradient descent mit maximal 1000 itterations\n",
    "ligisticRegr.fit(x_train, y_train)\n",
    "\n",
    "# predict the test data\n",
    "y_pred = ligisticRegr.predict(x_test)"
   ]
  },
  {
   "cell_type": "markdown",
   "metadata": {},
   "source": [
    "## Aufgabe 3"
   ]
  },
  {
   "cell_type": "markdown",
   "metadata": {},
   "source": [
    "1. Fügen Sie nun das Geschlecht als weiteres Feature hinzu und führen Sie die Schritte aus Aufgabe 1 und 2 erneut aus (Hinweis: Schauen Sie im Notebook `0_Pandas_Intro` unter \"Adding new columns\" nach wie das geht). Beachten Sie dabei, dass Geschlecht kein numerischer Wert ist, d.h. Sie müssen daraus ein numerisches Feature erstellen. Beispiel: Feature \"isFemale\" hat den Wert 1  wenn Sex == \"female\", sonst 0. Hinweis: Python wandelt Booleans automatisch in Nummern um.\n",
    "2. In wie weit verbessert sich die Accuracy durch das neue Feature?\n",
    "3. Versuchen Sie nun auf ähnliche Weise die Spalte \"Embarked\" als Feature zu nutzen."
   ]
  },
  {
   "cell_type": "markdown",
   "metadata": {},
   "source": [
    "## Bonus"
   ]
  },
  {
   "cell_type": "markdown",
   "metadata": {},
   "source": [
    "Welches sind die wichtigsten und unwichtigsten Features des Modells fur die Vorhersage? "
   ]
  }
 ],
 "metadata": {
  "kernelspec": {
   "display_name": "ml-env",
   "language": "python",
   "name": "python3"
  },
  "language_info": {
   "codemirror_mode": {
    "name": "ipython",
    "version": 3
   },
   "file_extension": ".py",
   "mimetype": "text/x-python",
   "name": "python",
   "nbconvert_exporter": "python",
   "pygments_lexer": "ipython3",
   "version": "3.8.20"
  }
 },
 "nbformat": 4,
 "nbformat_minor": 2
}
