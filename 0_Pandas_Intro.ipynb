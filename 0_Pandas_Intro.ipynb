{
 "cells": [
  {
   "cell_type": "markdown",
   "metadata": {},
   "source": [
    "# A Pandas Introduction 🐼\n",
    "### What is Pandas?\n",
    "Pandas is a Python library used for data manipulation and analysis. It provides highly efficient and easy-to-use data structures for working with structured data, such as CSV files, Excel spreadsheets, SQL databases, and JSON data.\n",
    "### Download the latest version of pandas\n",
    "conda: `conda install pandas`\n",
    "\n",
    "PyPI: `pip install pandas`\n",
    "\n",
    "\n",
    "Official pandas documentation: <https://pandas.pydata.org/docs/reference/index.html>\n",
    "\n",
    "\n",
    "---"
   ]
  },
  {
   "cell_type": "markdown",
   "metadata": {},
   "source": [
    "## Import \n",
    "Before we can use the package, we need to import it. Here we abbreviate the package name so we don't have to type the whole name every time."
   ]
  },
  {
   "cell_type": "code",
   "execution_count": 1,
   "metadata": {},
   "outputs": [],
   "source": []
  },
  {
   "cell_type": "markdown",
   "metadata": {},
   "source": [
    "## Load the data \n",
    "Pandas has several functions for loading or reading data. The data will be stored in a *DataFrame*, the main data structure of pandas. In this case we want to load a *.csv* file and therefore use the function  `read_csv()`."
   ]
  },
  {
   "cell_type": "code",
   "execution_count": 2,
   "metadata": {},
   "outputs": [],
   "source": []
  },
  {
   "cell_type": "markdown",
   "metadata": {},
   "source": [
    "It's also possible to save the *DataFrame* again as csv with the function `to_csv()`. By default, a new index column is created when a DataFrame is saved, the `index=False` option prevents this."
   ]
  },
  {
   "cell_type": "code",
   "execution_count": 3,
   "metadata": {},
   "outputs": [],
   "source": []
  },
  {
   "cell_type": "markdown",
   "metadata": {},
   "source": [
    "## Display DataFrame\n",
    "To show and validate the loaded data, we are able to use different functions. Besides displaying the entire DataFrame by calling the variable, `head()` displays the first 5 values and `tail()` displays the last values. If we want to display more than the 5 values, we can write the specific number in the function call.\n",
    "\n",
    "*Note:* In Jupyter Notebooks, an output is automatically displayed in the last line of each cell. Any other desired output has to be wrapped in a `print()` function"
   ]
  },
  {
   "cell_type": "code",
   "execution_count": null,
   "metadata": {},
   "outputs": [],
   "source": []
  },
  {
   "cell_type": "code",
   "execution_count": null,
   "metadata": {},
   "outputs": [],
   "source": []
  },
  {
   "cell_type": "code",
   "execution_count": null,
   "metadata": {},
   "outputs": [],
   "source": []
  },
  {
   "cell_type": "markdown",
   "metadata": {},
   "source": [
    "For some useful information about the DataFrame, such as the names, amount of values or data types of each column, you may use the `dtypes` attribute for data types only or the `info()` method for a more detailled output."
   ]
  },
  {
   "cell_type": "code",
   "execution_count": null,
   "metadata": {},
   "outputs": [],
   "source": []
  },
  {
   "cell_type": "code",
   "execution_count": null,
   "metadata": {},
   "outputs": [],
   "source": []
  },
  {
   "cell_type": "markdown",
   "metadata": {},
   "source": [
    "## Column indexing and statistical calculations\n",
    "If we want to address or retrieve a single column of a DataFrame, we can index it by using the  index operator `[]` with the desired column name. This single column acts as a *Pandas series* and we can therefore interact with it in a similar way as we did before. \n",
    "Since \"Hits\" is a numeric column, we can calculate statistical metrics using the built-in methods. "
   ]
  },
  {
   "cell_type": "code",
   "execution_count": null,
   "metadata": {},
   "outputs": [],
   "source": []
  },
  {
   "cell_type": "markdown",
   "metadata": {},
   "source": [
    "We can also check which values are available in a specific columns (duplicates are dropped):"
   ]
  },
  {
   "cell_type": "code",
   "execution_count": null,
   "metadata": {},
   "outputs": [],
   "source": []
  },
  {
   "cell_type": "markdown",
   "metadata": {},
   "source": [
    "## Not a Number (NaN)\n",
    "Data often contains missing or undefined datapoints, which are presented to us as `NaN`. These datapoints can interfere with calculations and analysis, so we need to address them. Here we will look at 2 methods: *dropping* and *filling*. While the former removes any row that contains a \"NaN\" value, the latter replaces the \"NaN\" value according to a chosen strategy, such as mean or median, forward or backward filling."
   ]
  },
  {
   "cell_type": "code",
   "execution_count": null,
   "metadata": {},
   "outputs": [],
   "source": []
  },
  {
   "cell_type": "markdown",
   "metadata": {},
   "source": [
    "If we want to print the amount of `NaN` values in a Series, we can use the function `isna()` and then sum all the `True` values with `sum()`."
   ]
  },
  {
   "cell_type": "code",
   "execution_count": null,
   "metadata": {},
   "outputs": [],
   "source": []
  },
  {
   "cell_type": "code",
   "execution_count": null,
   "metadata": {},
   "outputs": [],
   "source": []
  },
  {
   "cell_type": "code",
   "execution_count": null,
   "metadata": {},
   "outputs": [],
   "source": []
  },
  {
   "cell_type": "markdown",
   "metadata": {},
   "source": [
    "## Indexing multiple columns\n",
    "It is also possible to retrieve multiple columns of a DataFrame. \n",
    "\n",
    "*Note:* To index multiple columns, it is necessary to use double square brackets `[[ ]]`"
   ]
  },
  {
   "cell_type": "code",
   "execution_count": null,
   "metadata": {},
   "outputs": [],
   "source": []
  },
  {
   "cell_type": "markdown",
   "metadata": {},
   "source": [
    "## Filter / Conditions\n",
    "Pandas provides the application of conditions to filter a DataFrame. Here, we want to select only the players who have made over 100 hits."
   ]
  },
  {
   "cell_type": "code",
   "execution_count": null,
   "metadata": {},
   "outputs": [],
   "source": []
  },
  {
   "cell_type": "markdown",
   "metadata": {},
   "source": [
    "Next, we want all players who have made between 100 and 500 hits (without 100 and 500)."
   ]
  },
  {
   "cell_type": "code",
   "execution_count": null,
   "metadata": {},
   "outputs": [],
   "source": []
  },
  {
   "cell_type": "markdown",
   "metadata": {},
   "source": [
    "We can also filter all players who have been actively playing basketball for 10 years and finally output only the columns `name` and `salary`."
   ]
  },
  {
   "cell_type": "code",
   "execution_count": null,
   "metadata": {},
   "outputs": [],
   "source": []
  },
  {
   "cell_type": "markdown",
   "metadata": {},
   "source": [
    "## Row Indexing\n",
    "While column indexing is possible based on the column names, row indexing requires the integer index. The function `iloc()` returns the corresponding row for a given index."
   ]
  },
  {
   "cell_type": "code",
   "execution_count": null,
   "metadata": {},
   "outputs": [],
   "source": []
  },
  {
   "cell_type": "markdown",
   "metadata": {},
   "source": [
    "We can also specify multiple indices. For this, double square brackets must be specified again."
   ]
  },
  {
   "cell_type": "code",
   "execution_count": null,
   "metadata": {},
   "outputs": [],
   "source": []
  },
  {
   "cell_type": "markdown",
   "metadata": {},
   "source": [
    "## Plotting\n",
    "To plot data of a DataFrame, Pandas provides several plotting functions."
   ]
  },
  {
   "cell_type": "code",
   "execution_count": null,
   "metadata": {},
   "outputs": [],
   "source": []
  },
  {
   "cell_type": "markdown",
   "metadata": {},
   "source": [
    "The chart is inconsistent and contains gaps because there are `NaN` values in the data. To solve this problem, we can use a method mentioned above to handle this. Here we delete every row with `NaN` values and reset the index of the DataFrame manually."
   ]
  },
  {
   "cell_type": "code",
   "execution_count": null,
   "metadata": {},
   "outputs": [],
   "source": []
  },
  {
   "cell_type": "markdown",
   "metadata": {},
   "source": [
    "We can also specify columns as the x-axis and the y-axis."
   ]
  },
  {
   "cell_type": "code",
   "execution_count": null,
   "metadata": {},
   "outputs": [],
   "source": []
  },
  {
   "cell_type": "markdown",
   "metadata": {},
   "source": [
    "## Adding new columns\n",
    "To add a new column to a Pandas DataFrame, we simply use the index operator `[]` to assign a value or an expression to a new column label. In this example, we create a new column called 'avg_hits' by dividing the 'Hits' column by the 'Years' column."
   ]
  },
  {
   "cell_type": "code",
   "execution_count": null,
   "metadata": {},
   "outputs": [],
   "source": []
  },
  {
   "cell_type": "markdown",
   "metadata": {},
   "source": [
    "## Count unique values\n",
    "To count the number of unique values in a column of a Pandas DataFrame, we can use the `value_counts()` method. This method returns a new Series object that contains the counts of each unique value in the column, in descending order."
   ]
  },
  {
   "cell_type": "code",
   "execution_count": null,
   "metadata": {},
   "outputs": [],
   "source": []
  },
  {
   "cell_type": "markdown",
   "metadata": {},
   "source": [
    "## Group values\n",
    "To group a Pandas DataFrame by a column, we can use the `groupby()` method. In this example, we group the hitter_df DataFrame by the 'Division' column by passing 'Division' as an argument to the `groupby()` method."
   ]
  },
  {
   "cell_type": "code",
   "execution_count": null,
   "metadata": {},
   "outputs": [],
   "source": []
  },
  {
   "cell_type": "markdown",
   "metadata": {},
   "source": [
    "## Sort values\n",
    "Sorting values can help identify patterns, can enable more efficient querying and filtering, and can improve data visualization. To sort values in pandas, you can use the sort_values() method on a DataFrame object. \n",
    "\n",
    "*Note:* `NaN`values are listed at the very end of each sort."
   ]
  },
  {
   "cell_type": "code",
   "execution_count": null,
   "metadata": {},
   "outputs": [],
   "source": []
  },
  {
   "cell_type": "markdown",
   "metadata": {},
   "source": [
    "## Creating Data Frames manually\n",
    "Sometimes it becomes necessary to create a small DataFrame manually. This is done by providing the data as dictionary of lists. Here is an example:"
   ]
  },
  {
   "cell_type": "code",
   "execution_count": null,
   "metadata": {},
   "outputs": [],
   "source": []
  }
 ],
 "metadata": {
  "kernelspec": {
   "display_name": "Python 3 (ipykernel)",
   "language": "python",
   "name": "python3"
  },
  "language_info": {
   "codemirror_mode": {
    "name": "ipython",
    "version": 3
   },
   "file_extension": ".py",
   "mimetype": "text/x-python",
   "name": "python",
   "nbconvert_exporter": "python",
   "pygments_lexer": "ipython3",
   "version": "3.8.18"
  }
 },
 "nbformat": 4,
 "nbformat_minor": 2
}
